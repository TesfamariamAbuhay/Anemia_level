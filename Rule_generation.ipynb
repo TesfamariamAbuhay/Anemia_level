{
 "cells": [
  {
   "cell_type": "code",
   "execution_count": 1,
   "metadata": {},
   "outputs": [
    {
     "name": "stdout",
     "output_type": "stream",
     "text": [
      "['age', 'region', 'place_of_residence', 'number_of_visit', 'educational_level', 'source_of_water', 'number_of_household', 'listening_to_radio', 'duration_of_current_pregnancy', 'birth_history', 'current_pregnancy_wanted', 'ever_had_terminated_pregnancy', 'contraceptive_use_and_intention', 'currently_breastfeeding', 'body_mass_index', 'husband_education_level', 'husband_occupation', 'respondents_occupation', 'place_of_delivery', 'given_iron_tablet_or_syrup', 'during_pregnancy_took_sp_fansidar_for_malaria', 'vitamin_a_in_last_6_months', 'wealth_index_combined', 'Decision']\n",
      "[INFO]:  4 CPU cores will be allocated in parallel running\n",
      "C4.5  tree is going to be built...\n",
      "-------------------------\n",
      "finished in  1578.1714932918549  seconds\n",
      "-------------------------\n",
      "Evaluate  train set\n",
      "-------------------------\n",
      "Accuracy:  98.74587685541506 % on  29104  instances\n",
      "Labels:  ['non_anemic' 'mild' 'sever' 'moderate']\n",
      "Confusion matrix:  [[7159, 11, 0, 13], [56, 7202, 1, 115], [11, 29, 7251, 21], [50, 34, 24, 7127]]\n",
      "Decision  non_anemic  => Accuray:  99.5155 %, Precision:  99.6659 %, Recall:  98.392 %, F1:  99.0249 %\n",
      "Decision  mild  => Accuray:  99.1548 %, Precision:  97.6675 %, Recall:  98.983 %, F1:  98.3208 %\n",
      "Decision  sever  => Accuray:  99.7045 %, Precision:  99.1658 %, Recall:  99.6564 %, F1:  99.4105 %\n",
      "Decision  moderate  => Accuray:  99.117 %, Precision:  98.5073 %, Recall:  97.9522 %, F1:  98.229 %\n"
     ]
    }
   ],
   "source": [
    "from chefboost import Chefboost as chef\n",
    "import pandas as pd\n",
    "df = pd.read_csv('C:/Users/Bel_Z_Man/Desktop/final_nominal.csv',sep=',',index_col='id')\n",
    "config = {'algorithm': 'C4.5'}\n",
    "model = chef.fit(df, config = config)"
   ]
  },
  {
   "cell_type": "code",
   "execution_count": 2,
   "metadata": {},
   "outputs": [
    {
     "name": "stdout",
     "output_type": "stream",
     "text": [
      "Decision rule:  outputs/rules/rules.py\n"
     ]
    }
   ],
   "source": [
    "df = chef.feature_importance(\"outputs/rules/rules.py\")"
   ]
  },
  {
   "cell_type": "code",
   "execution_count": null,
   "metadata": {},
   "outputs": [],
   "source": []
  }
 ],
 "metadata": {
  "kernelspec": {
   "display_name": "Python 3",
   "language": "python",
   "name": "python3"
  },
  "language_info": {
   "codemirror_mode": {
    "name": "ipython",
    "version": 3
   },
   "file_extension": ".py",
   "mimetype": "text/x-python",
   "name": "python",
   "nbconvert_exporter": "python",
   "pygments_lexer": "ipython3",
   "version": "3.7.4"
  }
 },
 "nbformat": 4,
 "nbformat_minor": 2
}
